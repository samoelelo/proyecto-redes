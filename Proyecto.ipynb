{
 "cells": [
  {
   "cell_type": "code",
   "execution_count": 6,
   "metadata": {},
   "outputs": [],
   "source": [
    "#librerias requeridas para trabajar con grafos\n",
    "import networkx as nx\n",
    "import matplotlib.pyplot as plt\n",
    "import matplotlib as mpl\n",
    "import numpy as np\n",
    "import pandas as pd\n",
    "import collections\n"
   ]
  },
  {
   "cell_type": "code",
   "execution_count": 15,
   "metadata": {},
   "outputs": [
    {
     "name": "stdout",
     "output_type": "stream",
     "text": [
      "               n      t   w\n",
      "0              1      1   8\n",
      "1              2      2   6\n",
      "2              2      3  10\n",
      "3              2      4   7\n",
      "4              2      5  10\n",
      "...          ...    ...  ..\n",
      "17359341  135360   8167   2\n",
      "17359342  135360  11354   2\n",
      "17359343  135360  32204   5\n",
      "17359344  135360  40880   5\n",
      "17359345  135360  61270   8\n",
      "\n",
      "[17359346 rows x 3 columns]\n"
     ]
    }
   ],
   "source": [
    "dt= pd.read_csv(\"dating.edges\",\" \")\n",
    "print(dt)\n",
    "red = nx.from_pandas_edgelist(dt,source=\"n\",target = \"t\")"
   ]
  },
  {
   "cell_type": "code",
   "execution_count": null,
   "metadata": {},
   "outputs": [],
   "source": [
    "nx.draw(red,node_size=5,edge_color='b',node_color=\"black\") "
   ]
  },
  {
   "cell_type": "code",
   "execution_count": null,
   "metadata": {},
   "outputs": [],
   "source": []
  }
 ],
 "metadata": {
  "kernelspec": {
   "display_name": "Python 3",
   "language": "python",
   "name": "python3"
  },
  "language_info": {
   "codemirror_mode": {
    "name": "ipython",
    "version": 3
   },
   "file_extension": ".py",
   "mimetype": "text/x-python",
   "name": "python",
   "nbconvert_exporter": "python",
   "pygments_lexer": "ipython3",
   "version": "3.8.5"
  }
 },
 "nbformat": 4,
 "nbformat_minor": 4
}
